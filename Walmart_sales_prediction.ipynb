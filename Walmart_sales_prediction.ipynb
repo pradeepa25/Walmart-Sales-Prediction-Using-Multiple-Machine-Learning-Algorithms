{
  "nbformat": 4,
  "nbformat_minor": 0,
  "metadata": {
    "colab": {
      "provenance": []
    },
    "kernelspec": {
      "name": "python3",
      "display_name": "Python 3"
    },
    "language_info": {
      "name": "python"
    }
  },
  "cells": [
    {
      "cell_type": "code",
      "execution_count": null,
      "metadata": {
        "id": "Zj_6I5mksv1Q",
        "colab": {
          "base_uri": "https://localhost:8080/"
        },
        "outputId": "120a32fe-5b3e-47b1-e119-8aea653aca52"
      },
      "outputs": [
        {
          "output_type": "stream",
          "name": "stderr",
          "text": [
            "<ipython-input-1-cd61e3402686>:21: FutureWarning: DataFrame.fillna with 'method' is deprecated and will raise in a future version. Use obj.ffill() or obj.bfill() instead.\n",
            "  data.fillna(method='ffill', inplace=True)\n"
          ]
        },
        {
          "output_type": "stream",
          "name": "stdout",
          "text": [
            "                    Model          Confusion Matrix  Accuracy  Precision  \\\n",
            "0             Naive Bayes  [[369, 270], [193, 455]]  0.640249   0.627586   \n",
            "1                     KNN   [[582, 57], [142, 506]]  0.845377   0.898757   \n",
            "2  RandomForestClassifier    [[605, 34], [31, 617]]  0.949495   0.947773   \n",
            "3  DecisionTreeClassifier    [[594, 45], [33, 615]]  0.939394   0.931818   \n",
            "4                     SVM  [[380, 259], [174, 474]]  0.663559   0.646658   \n",
            "\n",
            "     Recall  F1 Score  \n",
            "0  0.702160  0.662782  \n",
            "1  0.780864  0.835673  \n",
            "2  0.952160  0.949962  \n",
            "3  0.949074  0.940367  \n",
            "4  0.731481  0.686459  \n"
          ]
        }
      ],
      "source": [
        "# Import necessary libraries for processing\n",
        "import pandas as pd\n",
        "import numpy as np\n",
        "from sklearn.model_selection import train_test_split\n",
        "from sklearn.naive_bayes import GaussianNB\n",
        "from sklearn.neighbors import KNeighborsClassifier\n",
        "from sklearn.ensemble import RandomForestClassifier\n",
        "from sklearn.tree import DecisionTreeClassifier\n",
        "from sklearn.svm import SVC\n",
        "from sklearn.metrics import confusion_matrix, accuracy_score, precision_score, recall_score, f1_score\n",
        "\n",
        "# Load the dataset (replace with your actual dataset path or DataFrame)\n",
        "data = pd.read_csv('/content/Walmart_Sales.csv')\n",
        "\n",
        "# Preprocessing\n",
        "# Convert 'Date' to datetime, and drop the 'Date' column if it's present\n",
        "data['Date'] = pd.to_datetime(data['Date'], format='%d-%m-%Y')\n",
        "data = data.drop('Date', axis=1)\n",
        "\n",
        "# Fill any missing values in the dataset (if any) using forward fill method\n",
        "data.fillna(method='ffill', inplace=True)\n",
        "\n",
        "# Separating features and target ('Weekly_Sales')\n",
        "X = data.drop('Weekly_Sales', axis=1)  # Features\n",
        "y = data['Weekly_Sales']  # Target\n",
        "\n",
        "# Binarize the target (for classification purpose, sales above the median are \"high\", otherwise \"low\")\n",
        "median_sales = np.median(y)\n",
        "y = np.where(y > median_sales, 1, 0)  # 1 for high sales, 0 for low sales\n",
        "\n",
        "# Split the dataset into training and testing sets\n",
        "X_train, X_test, y_train, y_test = train_test_split(X, y, test_size=0.2, random_state=42)\n",
        "\n",
        "# List of models with their names and instances\n",
        "models = [\n",
        "    ('Naive Bayes', GaussianNB()),\n",
        "    ('KNN', KNeighborsClassifier(n_neighbors=8)),\n",
        "    ('RandomForestClassifier', RandomForestClassifier()),\n",
        "    ('DecisionTreeClassifier', DecisionTreeClassifier()),\n",
        "    ('SVM', SVC(kernel='linear'))\n",
        "]\n",
        "\n",
        "# Loop through each model, fit, predict and calculate metrics\n",
        "results = []\n",
        "\n",
        "for name, model in models:\n",
        "    model.fit(X_train, y_train)  # Train the model\n",
        "    y_pred = model.predict(X_test)  # Make predictions\n",
        "\n",
        "    # Calculate confusion matrix and metrics\n",
        "    cm = confusion_matrix(y_test, y_pred)\n",
        "    accuracy = accuracy_score(y_test, y_pred)\n",
        "    precision = precision_score(y_test, y_pred)\n",
        "    recall = recall_score(y_test, y_pred)\n",
        "    f1 = f1_score(y_test, y_pred)\n",
        "\n",
        "    # Store results for comparison\n",
        "    results.append({\n",
        "        'Model': name,\n",
        "        'Confusion Matrix': cm,\n",
        "        'Accuracy': accuracy,\n",
        "        'Precision': precision,\n",
        "        'Recall': recall,\n",
        "        'F1 Score': f1\n",
        "    })\n",
        "\n",
        "# Convert results into a DataFrame for display\n",
        "results_df = pd.DataFrame(results)\n",
        "\n",
        "# Display the results\n",
        "print(results_df)\n"
      ]
    },
    {
      "cell_type": "code",
      "source": [
        "# Import necessary libraries for processing\n",
        "import pandas as pd\n",
        "import numpy as np\n",
        "from sklearn.model_selection import train_test_split\n",
        "from sklearn.ensemble import RandomForestRegressor\n",
        "from sklearn.metrics import mean_squared_error\n",
        "import datetime\n",
        "\n",
        "# Load the dataset (replace with your actual dataset path or DataFrame)\n",
        "data = pd.read_csv('/content/Walmart_Sales.csv')\n",
        "\n",
        "# Preprocessing\n",
        "# Convert 'Date' to datetime\n",
        "data['Date'] = pd.to_datetime(data['Date'], format='%d-%m-%Y')\n",
        "\n",
        "# Fill any missing values in the dataset using forward fill\n",
        "data.ffill(inplace=True)  # Updated to avoid FutureWarning\n",
        "\n",
        "# Separating features and target ('Weekly_Sales')\n",
        "X = data.drop(['Weekly_Sales', 'Date'], axis=1)  # Features (excluding 'Date' for prediction)\n",
        "y = data['Weekly_Sales']  # Target variable (Sales)\n",
        "\n",
        "# Split the dataset into training and testing sets\n",
        "X_train, X_test, y_train, y_test = train_test_split(X, y, test_size=0.2, random_state=42)\n",
        "\n",
        "# Using RandomForestRegressor for regression prediction\n",
        "rf_model = RandomForestRegressor(n_estimators=100, random_state=42)\n",
        "rf_model.fit(X_train, y_train)\n",
        "\n",
        "# Ask user for the prediction period (next week or month)\n",
        "prediction_period = input(\"Would you like to predict for the next 'week' or 'month'? \").strip().lower()\n",
        "\n",
        "# Get the last known data row to use for future prediction\n",
        "last_row = data.iloc[-1].drop(['Weekly_Sales', 'Date'])  # Take the last row excluding sales and date\n",
        "\n",
        "# Ensure the row is passed as a DataFrame to preserve feature names\n",
        "last_row_df = pd.DataFrame([last_row], columns=X.columns)\n",
        "\n",
        "# Predict for the next period using the current date\n",
        "current_date = datetime.datetime.now()\n",
        "\n",
        "if prediction_period == 'week':\n",
        "    future_date = current_date + datetime.timedelta(weeks=1)  # Predict for next week\n",
        "elif prediction_period == 'month':\n",
        "    future_date = current_date + pd.DateOffset(months=1)  # Predict for next month\n",
        "else:\n",
        "    print(\"Invalid input. Please enter either 'week' or 'month'.\")\n",
        "    exit()\n",
        "\n",
        "# Predict the next period's sales using the RandomForestRegressor\n",
        "future_sales = rf_model.predict(last_row_df)[0]  # Corrected feature name handling\n",
        "\n",
        "# Display the predicted result\n",
        "print(f\"Predicted Weekly Sales for the next {prediction_period}: {future_sales:.2f} on {future_date.strftime('%d-%m-%Y')}\")\n",
        "\n",
        "# Optionally, evaluate the model on test data\n",
        "y_pred = rf_model.predict(X_test)\n",
        "mse = mean_squared_error(y_test, y_pred)\n",
        "print(f\"Mean Squared Error on test data: {mse:.2f}\")\n"
      ],
      "metadata": {
        "colab": {
          "base_uri": "https://localhost:8080/"
        },
        "id": "beP_WC0WuaKt",
        "outputId": "23f2fde6-4c90-4444-85f0-57c83b41ae3b"
      },
      "execution_count": null,
      "outputs": [
        {
          "output_type": "stream",
          "name": "stdout",
          "text": [
            "Would you like to predict for the next 'week' or 'month'? week\n",
            "Predicted Weekly Sales for the next week: 741893.97 on 20-10-2024\n",
            "Mean Squared Error on test data: 21677879001.43\n"
          ]
        }
      ]
    }
  ]
}